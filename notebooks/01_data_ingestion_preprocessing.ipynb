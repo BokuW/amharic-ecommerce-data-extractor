{
 "cells": [
  {
   "cell_type": "markdown",
   "id": "75406c08",
   "metadata": {},
   "source": [
    "# Import independecies"
   ]
  },
  {
   "cell_type": "code",
   "execution_count": 4,
   "id": "a7b736e5",
   "metadata": {},
   "outputs": [],
   "source": [
    "# notebooks/01_data_ingestion_preprocessing.ipynb\n",
    "\n",
    "import os\n",
    "import sys\n",
    "import asyncio\n",
    "import json\n",
    "from datetime import datetime\n",
    "import pandas as pd\n",
    "from telethon import TelegramClient, events\n",
    "from telethon.tl.types import MessageMediaPhoto, DocumentAttributeFilename\n",
    "from telethon.tl.functions.channels import GetParticipantsRequest\n",
    "from telethon.tl.types import ChannelParticipantsSearch\n",
    "from tqdm.notebook import tqdm\n"
   ]
  },
  {
   "cell_type": "markdown",
   "id": "8cda532a",
   "metadata": {},
   "source": [
    "# Project root"
   ]
  },
  {
   "cell_type": "code",
   "execution_count": 5,
   "id": "56614a6b",
   "metadata": {},
   "outputs": [
    {
     "name": "stdout",
     "output_type": "stream",
     "text": [
      "'c:\\Users\\hp\\OneDrive\\Desktop\\kaim-ai\\KAIM4\\amharic-ecommerce-data-extractor' already in sys.path.\n"
     ]
    }
   ],
   "source": [
    "\n",
    "# --- Project Setup: Ensure src module is discoverable ---\n",
    "# This block is crucial for importing from src.config\n",
    "def find_project_root(current_path):\n",
    "    path = current_path\n",
    "    while path != os.path.dirname(path):\n",
    "        if (os.path.isdir(os.path.join(path, 'src')) and\n",
    "            os.path.isdir(os.path.join(path, 'data')) and\n",
    "            os.path.isdir(os.path.join(path, 'notebooks'))):\n",
    "            return path\n",
    "        path = os.path.dirname(path)\n",
    "    return current_path\n",
    "\n",
    "current_working_dir = os.getcwd()\n",
    "project_root = find_project_root(current_working_dir)\n",
    "\n",
    "if project_root not in sys.path:\n",
    "    sys.path.append(project_root)\n",
    "    print(f\"Added '{project_root}' to sys.path for module imports.\")\n",
    "else:\n",
    "    print(f\"'{project_root}' already in sys.path.\")\n",
    "\n",
    "# Import configuration variables\n",
    "from src.config import (\n",
    "    TELEGRAM_API_ID, TELEGRAM_API_HASH, TELEGRAM_CHANNELS,\n",
    "    RAW_MESSAGES_JSON, CLEAN_MESSAGES_CSV, IMAGE_DOWNLOAD_DIR,\n",
    "    RAW_DATA_DIR\n",
    ")"
   ]
  },
  {
   "cell_type": "markdown",
   "id": "17927b57",
   "metadata": {},
   "source": [
    "# Data Ingestiona and Preprocessing"
   ]
  },
  {
   "cell_type": "markdown",
   "id": "a6edfdf4",
   "metadata": {},
   "source": [
    "*Telegram API client setup*"
   ]
  },
  {
   "cell_type": "code",
   "execution_count": null,
   "id": "35e354ff",
   "metadata": {},
   "outputs": [
    {
     "name": "stdout",
     "output_type": "stream",
     "text": [
      "\n",
      "--- Initiating Telegram Channel Scraping ---\n",
      "\n",
      "--- Connecting to Telegram... ---\n",
      "Connected and authenticated with Telegram successfully.\n",
      "\n",
      "Processing channel: @nevacomputer\n",
      "Resolved channel: NEVA COMPUTER® (ID: 1195361398)\n",
      "ERROR: An unexpected error occurred while processing '@nevacomputer': IProgress not found. Please update jupyter and ipywidgets. See https://ipywidgets.readthedocs.io/en/stable/user_install.html\n"
     ]
    },
    {
     "name": "stderr",
     "output_type": "stream",
     "text": [
      "Exception ignored in: <function tqdm.__del__ at 0x000001CE82243F60>\n",
      "Traceback (most recent call last):\n",
      "  File \"c:\\Users\\hp\\OneDrive\\Desktop\\kaim-ai\\KAIM4\\amharic-ecommerce-data-extractor\\.venv\\Lib\\site-packages\\tqdm\\std.py\", line 1148, in __del__\n",
      "    self.close()\n",
      "  File \"c:\\Users\\hp\\OneDrive\\Desktop\\kaim-ai\\KAIM4\\amharic-ecommerce-data-extractor\\.venv\\Lib\\site-packages\\tqdm\\notebook.py\", line 282, in close\n",
      "    self.disp(bar_style='success', check_delay=False)\n",
      "    ^^^^^^^^^\n",
      "AttributeError: 'tqdm_notebook' object has no attribute 'disp'\n"
     ]
    },
    {
     "name": "stdout",
     "output_type": "stream",
     "text": [
      "\n",
      "Processing channel: @marakibrand\n"
     ]
    },
    {
     "name": "stderr",
     "output_type": "stream",
     "text": [
      "Exception ignored in: <function tqdm.__del__ at 0x000001CE82243F60>\n",
      "Traceback (most recent call last):\n",
      "  File \"c:\\Users\\hp\\OneDrive\\Desktop\\kaim-ai\\KAIM4\\amharic-ecommerce-data-extractor\\.venv\\Lib\\site-packages\\tqdm\\std.py\", line 1148, in __del__\n",
      "    self.close()\n",
      "  File \"c:\\Users\\hp\\OneDrive\\Desktop\\kaim-ai\\KAIM4\\amharic-ecommerce-data-extractor\\.venv\\Lib\\site-packages\\tqdm\\notebook.py\", line 282, in close\n",
      "    self.disp(bar_style='success', check_delay=False)\n",
      "    ^^^^^^^^^\n",
      "AttributeError: 'tqdm_notebook' object has no attribute 'disp'\n"
     ]
    },
    {
     "name": "stdout",
     "output_type": "stream",
     "text": [
      "Resolved channel: ማራኪ ცЯﾑŋの™ (ID: 1320403852)\n",
      "ERROR: An unexpected error occurred while processing '@marakibrand': IProgress not found. Please update jupyter and ipywidgets. See https://ipywidgets.readthedocs.io/en/stable/user_install.html\n",
      "\n",
      "Processing channel: @Fashiontera\n"
     ]
    },
    {
     "name": "stderr",
     "output_type": "stream",
     "text": [
      "Exception ignored in: <function tqdm.__del__ at 0x000001CE82243F60>\n",
      "Traceback (most recent call last):\n",
      "  File \"c:\\Users\\hp\\OneDrive\\Desktop\\kaim-ai\\KAIM4\\amharic-ecommerce-data-extractor\\.venv\\Lib\\site-packages\\tqdm\\std.py\", line 1148, in __del__\n",
      "    self.close()\n",
      "  File \"c:\\Users\\hp\\OneDrive\\Desktop\\kaim-ai\\KAIM4\\amharic-ecommerce-data-extractor\\.venv\\Lib\\site-packages\\tqdm\\notebook.py\", line 282, in close\n",
      "    self.disp(bar_style='success', check_delay=False)\n",
      "    ^^^^^^^^^\n",
      "AttributeError: 'tqdm_notebook' object has no attribute 'disp'\n"
     ]
    },
    {
     "name": "stdout",
     "output_type": "stream",
     "text": [
      "Resolved channel: Fashion tera (ID: 1175527648)\n",
      "ERROR: An unexpected error occurred while processing '@Fashiontera': IProgress not found. Please update jupyter and ipywidgets. See https://ipywidgets.readthedocs.io/en/stable/user_install.html\n",
      "\n",
      "Processing channel: @Shewabrand\n"
     ]
    },
    {
     "name": "stderr",
     "output_type": "stream",
     "text": [
      "Exception ignored in: <function tqdm.__del__ at 0x000001CE82243F60>\n",
      "Traceback (most recent call last):\n",
      "  File \"c:\\Users\\hp\\OneDrive\\Desktop\\kaim-ai\\KAIM4\\amharic-ecommerce-data-extractor\\.venv\\Lib\\site-packages\\tqdm\\std.py\", line 1148, in __del__\n",
      "    self.close()\n",
      "  File \"c:\\Users\\hp\\OneDrive\\Desktop\\kaim-ai\\KAIM4\\amharic-ecommerce-data-extractor\\.venv\\Lib\\site-packages\\tqdm\\notebook.py\", line 282, in close\n",
      "    self.disp(bar_style='success', check_delay=False)\n",
      "    ^^^^^^^^^\n",
      "AttributeError: 'tqdm_notebook' object has no attribute 'disp'\n"
     ]
    },
    {
     "name": "stdout",
     "output_type": "stream",
     "text": [
      "Resolved channel: Shewa Brand (ID: 1237900032)\n",
      "ERROR: An unexpected error occurred while processing '@Shewabrand': IProgress not found. Please update jupyter and ipywidgets. See https://ipywidgets.readthedocs.io/en/stable/user_install.html\n",
      "\n",
      "Processing channel: @ethio_brand_collection\n"
     ]
    },
    {
     "name": "stderr",
     "output_type": "stream",
     "text": [
      "Exception ignored in: <function tqdm.__del__ at 0x000001CE82243F60>\n",
      "Traceback (most recent call last):\n",
      "  File \"c:\\Users\\hp\\OneDrive\\Desktop\\kaim-ai\\KAIM4\\amharic-ecommerce-data-extractor\\.venv\\Lib\\site-packages\\tqdm\\std.py\", line 1148, in __del__\n",
      "    self.close()\n",
      "  File \"c:\\Users\\hp\\OneDrive\\Desktop\\kaim-ai\\KAIM4\\amharic-ecommerce-data-extractor\\.venv\\Lib\\site-packages\\tqdm\\notebook.py\", line 282, in close\n",
      "    self.disp(bar_style='success', check_delay=False)\n",
      "    ^^^^^^^^^\n",
      "AttributeError: 'tqdm_notebook' object has no attribute 'disp'\n"
     ]
    },
    {
     "name": "stdout",
     "output_type": "stream",
     "text": [
      "Resolved channel: EthioBrand® (ID: 1149977975)\n",
      "ERROR: An unexpected error occurred while processing '@ethio_brand_collection': IProgress not found. Please update jupyter and ipywidgets. See https://ipywidgets.readthedocs.io/en/stable/user_install.html\n",
      "\n",
      "CRITICAL WARNING: No messages were collected from any channel. Please check channel configurations and API keys.\n"
     ]
    }
   ],
   "source": [
    "# Telegram API Client Setup ---\n",
    "# A session name is used to save login information so you don't have to log in every time\n",
    "session_name = 'telegram_scraper_session'\n",
    "client = TelegramClient(session_name, TELEGRAM_API_ID, TELEGRAM_API_HASH)\n",
    "\n",
    "async def connect_and_authenticate():\n",
    "    \"\"\"Connects to Telegram and authenticates the user.\"\"\"\n",
    "    print(\"\\n--- Connecting to Telegram... ---\")\n",
    "    await client.start()\n",
    "    if not await client.is_user_authorized():\n",
    "        print(\"Please log in to your Telegram account.\")\n",
    "        # This will prompt for phone number and code in the console if not already logged in\n",
    "        await client.send_code_request(phone=input('Enter phone number: '))\n",
    "        await client.sign_in(phone=input('Enter phone number: '), code=input('Enter code: '))\n",
    "    print(\"Connected and authenticated with Telegram successfully.\")\n",
    "\n",
    "\n",
    "# -- Data Ingestion System (Scraping Messages) ---\n",
    "async def scrape_telegram_channels():\n",
    "    \"\"\"Scrapes messages (text and media) from configured Telegram channels.\"\"\"\n",
    "    all_messages_data = []\n",
    "\n",
    "    print(\"\\n--- Initiating Telegram Channel Scraping ---\")\n",
    "    \n",
    "    await connect_and_authenticate()\n",
    "\n",
    "    for channel_id_or_username in TELEGRAM_CHANNELS:\n",
    "        print(f\"\\nProcessing channel: {channel_id_or_username}\")\n",
    "        try:\n",
    "            entity = await client.get_entity(channel_id_or_username)\n",
    "            print(f\"Resolved channel: {entity.title} (ID: {entity.id})\")\n",
    "\n",
    "            # Iterate over messages (e.g., last 1000 messages)\n",
    "            # You can adjust the limit or use client.iter_messages() for more granular control\n",
    "            # Note: For very large channels, consider fetching in chunks or over a specific date range.\n",
    "            messages_iterator = client.iter_messages(entity, limit=1000) # Fetch up to 2000 messages per channel\n",
    "\n",
    "            pbar_desc = f\"Scraping {entity.title[:20]}...\" # Truncate for display\n",
    "            async for message in tqdm(messages_iterator, desc=pbar_desc, unit=\"msg\"):\n",
    "                msg_data = {\n",
    "                    'message_id': message.id,\n",
    "                    'channel_id': entity.id,\n",
    "                    'channel_name': entity.title,\n",
    "                    'sender_id': message.sender_id,\n",
    "                    'date': message.date.isoformat(),\n",
    "                    'text_content': message.message,\n",
    "                    'has_media': False,\n",
    "                    'media_type': None,\n",
    "                    'media_file_name': None,\n",
    "                    'media_file_path': None,\n",
    "                    'views': message.views # Engagement metric\n",
    "                }\n",
    "\n",
    "                if message.media:\n",
    "                    msg_data['has_media'] = True\n",
    "                    if isinstance(message.media, MessageMediaPhoto):\n",
    "                        msg_data['media_type'] = 'photo'\n",
    "                        # Download photo\n",
    "                        photo_filename = f\"channel_{entity.id}_msg_{message.id}_photo.jpg\"\n",
    "                        photo_filepath = os.path.join(IMAGE_DOWNLOAD_DIR, photo_filename)\n",
    "                        try:\n",
    "                            await client.download_media(message.media, file=photo_filepath)\n",
    "                            msg_data['media_file_name'] = photo_filename\n",
    "                            msg_data['media_file_path'] = photo_filepath\n",
    "                        except Exception as e:\n",
    "                            print(f\"  Warning: Could not download photo for message {message.id} in {entity.title}: {e}\")\n",
    "                            msg_data['media_file_name'] = 'download_failed'\n",
    "                    elif message.document: # Handle other documents like files\n",
    "                        for attr in message.document.attributes:\n",
    "                            if isinstance(attr, DocumentAttributeFilename):\n",
    "                                msg_data['media_type'] = 'document'\n",
    "                                doc_filename = f\"channel_{entity.id}_msg_{message.id}_{attr.file_name}\"\n",
    "                                doc_filepath = os.path.join(IMAGE_DOWNLOAD_DIR, doc_filename)\n",
    "                                try:\n",
    "                                    await client.download_media(message.media, file=doc_filepath)\n",
    "                                    msg_data['media_file_name'] = doc_filename\n",
    "                                    msg_data['media_file_path'] = doc_filepath\n",
    "                                except Exception as e:\n",
    "                                    print(f\"  Warning: Could not download document for message {message.id} in {entity.title}: {e}\")\n",
    "                                    msg_data['media_file_name'] = 'download_failed'\n",
    "                                break\n",
    "                all_messages_data.append(msg_data)\n",
    "\n",
    "        except ValueError as e:\n",
    "            print(f\"ERROR: Could not find channel/entity '{channel_id_or_username}'. Please check its exact username or ID. Error: {e}\")\n",
    "        except Exception as e:\n",
    "            print(f\"ERROR: An unexpected error occurred while processing '{channel_id_or_username}': {e}\")\n",
    "    \n",
    "    await client.disconnect()\n",
    "    return all_messages_data\n",
    "\n",
    "\n",
    "# Run the scraping process\n",
    "# Use asyncio.run() to run the async function\n",
    "messages_list = await scrape_telegram_channels() # In a Jupyter notebook, 'await' works directly at top-level\n",
    "\n",
    "if not messages_list:\n",
    "    print(\"\\nCRITICAL WARNING: No messages were collected from any channel. Please check channel configurations and API keys.\")\n",
    "    raw_df = pd.DataFrame()\n",
    "else:\n",
    "    print(f\"\\n--- Raw Message Collection Summary ---\")\n",
    "    raw_df = pd.DataFrame(messages_list)\n",
    "    print(f\"Total raw messages collected: {len(raw_df)}\")\n",
    "    print(\"Raw DataFrame Info:\")\n",
    "    raw_df.info()\n",
    "    print(\"\\nFirst 5 rows of Raw Messages:\")\n",
    "    print(raw_df.head())\n",
    "    print(f\"Saving raw messages to: {RAW_MESSAGES_JSON}\")\n",
    "    # Save as JSON as it's easier to store complex dicts, especially if media info gets complicated\n",
    "    with open(RAW_MESSAGES_JSON, 'w', encoding='utf-8') as f:\n",
    "        json.dump(messages_list, f, ensure_ascii=False, indent=4)\n",
    "    print(\"Raw messages saved successfully.\")\n",
    "\n"
   ]
  },
  {
   "cell_type": "code",
   "execution_count": null,
   "id": "58a9dec8",
   "metadata": {},
   "outputs": [],
   "source": []
  }
 ],
 "metadata": {
  "kernelspec": {
   "display_name": ".venv",
   "language": "python",
   "name": "python3"
  },
  "language_info": {
   "codemirror_mode": {
    "name": "ipython",
    "version": 3
   },
   "file_extension": ".py",
   "mimetype": "text/x-python",
   "name": "python",
   "nbconvert_exporter": "python",
   "pygments_lexer": "ipython3",
   "version": "3.11.9"
  }
 },
 "nbformat": 4,
 "nbformat_minor": 5
}
