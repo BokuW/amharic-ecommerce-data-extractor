{
 "cells": [
  {
   "cell_type": "markdown",
   "id": "75406c08",
   "metadata": {},
   "source": [
    "# Import independecies"
   ]
  },
  {
   "cell_type": "code",
   "execution_count": null,
   "id": "a7b736e5",
   "metadata": {},
   "outputs": [],
   "source": [
    "# notebooks/01_data_ingestion_preprocessing.ipynb\n",
    "\n",
    "import os\n",
    "import sys\n",
    "import asyncio\n",
    "import json\n",
    "from datetime import datetime\n",
    "import pandas as pd\n",
    "from telethon import TelegramClient, events\n",
    "from telethon.tl.types import MessageMediaPhoto, DocumentAttributeFilename\n",
    "from telethon.tl.functions.channels import GetParticipantsRequest\n",
    "from telethon.tl.types import ChannelParticipantsSearch\n",
    "from tqdm.notebook import tqdm\n"
   ]
  }
 ],
 "metadata": {
  "kernelspec": {
   "display_name": ".venv",
   "language": "python",
   "name": "python3"
  },
  "language_info": {
   "name": "python",
   "version": "3.11.9"
  }
 },
 "nbformat": 4,
 "nbformat_minor": 5
}
